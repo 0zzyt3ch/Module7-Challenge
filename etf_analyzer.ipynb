{
 "cells": [
  {
   "attachments": {},
   "cell_type": "markdown",
   "metadata": {},
   "source": [
    "# Create a Web Application for an ETF Analyzer\n",
    "\n",
    "In this Challenge assignment, you’ll build a financial database and web application by using SQL, Python, and the Voilà library to analyze the performance of a hypothetical fintech ETF.\n",
    "\n",
    "Instructions: \n",
    "\n",
    "Use this notebook to complete your analysis of a fintech ETF that consists of four stocks: GOST, GS, PYPL, and SQ. Each stock has its own table in the `etf.db` database, which the `Starter_Code` folder also contains.\n",
    "\n",
    "Analyze the daily returns of the ETF stocks both individually and as a whole. Then deploy the visualizations to a web application by using the Voilà library.\n",
    "\n",
    "The detailed instructions are divided into the following parts:\n",
    "\n",
    "* Analyze a single asset in the ETF\n",
    "\n",
    "* Optimize data access with Advanced SQL queries\n",
    "\n",
    "* Analyze the ETF portfolio\n",
    "\n",
    "* Deploy the notebook as a web application\n",
    "\n",
    "#### Analyze a Single Asset in the ETF\n",
    "\n",
    "For this part of the assignment, you’ll use SQL queries with Python, Pandas, and hvPlot to analyze the performance of a single asset from the ETF.\n",
    "\n",
    "Complete the following steps:\n",
    "\n",
    "1. Write a SQL `SELECT` statement by using an f-string that reads all the PYPL data from the database. Using the SQL `SELECT` statement, execute a query that reads the PYPL data from the database into a Pandas DataFrame.\n",
    "\n",
    "2. Use the `head` and `tail` functions to review the first five and the last five rows of the DataFrame. Make a note of the beginning and end dates that are available from this dataset. You’ll use this information to complete your analysis.\n",
    "\n",
    "3. Using hvPlot, create an interactive visualization for the PYPL daily returns. Reflect the “time” column of the DataFrame on the x-axis. Make sure that you professionally style and format your visualization to enhance its readability.\n",
    "\n",
    "4. Using hvPlot, create an interactive visualization for the PYPL cumulative returns. Reflect the “time” column of the DataFrame on the x-axis. Make sure that you professionally style and format your visualization to enhance its readability.\n",
    "\n",
    "#### Optimize Data Access with Advanced SQL Queries\n",
    "\n",
    "For this part of the assignment, you’ll continue to analyze a single asset (PYPL) from the ETF. You’ll use advanced SQL queries to optimize the efficiency of accessing data from the database.\n",
    "\n",
    "Complete the following steps:\n",
    "\n",
    "1. Access the closing prices for PYPL that are greater than 200 by completing the following steps:\n",
    "\n",
    "    - Write a SQL `SELECT` statement to select the dates where the PYPL closing price was higher than 200.0.\n",
    "\n",
    "    - Using the SQL statement, read the data from the database into a Pandas DataFrame, and then review the resulting DataFrame.\n",
    "\n",
    "    - Select the “time” and “close” columns for those dates where the closing price was higher than 200.0.\n",
    "\n",
    "2. Find the top 10 daily returns for PYPL by completing the following steps:\n",
    "\n",
    "    -  Write a SQL statement to find the top 10 PYPL daily returns. Make sure to do the following:\n",
    "\n",
    "        * Use `SELECT` to select only the “time” and “daily_returns” columns.\n",
    "\n",
    "        * Use `ORDER` to sort the results in descending order by the “daily_returns” column.\n",
    "\n",
    "        * Use `LIMIT` to limit the results to the top 10 daily return values.\n",
    "\n",
    "    - Using the SQL statement, read the data from the database into a Pandas DataFrame, and then review the resulting DataFrame.\n",
    "\n",
    "#### Analyze the ETF Portfolio\n",
    "\n",
    "For this part of the assignment, you’ll build the entire ETF portfolio and then evaluate its performance. To do so, you’ll build the ETF portfolio by using SQL joins to combine all the data for each asset.\n",
    "\n",
    "Complete the following steps:\n",
    "\n",
    "1. Write a SQL query to join each table in the portfolio into a single DataFrame. To do so, complete the following steps:\n",
    "\n",
    "    - Use a SQL inner join to join each table on the “time” column. Access the “time” column in the `GDOT` table via the `GDOT.time` syntax. Access the “time” columns from the other tables via similar syntax.\n",
    "\n",
    "    - Using the SQL query, read the data from the database into a Pandas DataFrame. Review the resulting DataFrame.\n",
    "\n",
    "2. Create a DataFrame that averages the “daily_returns” columns for all four assets. Review the resulting DataFrame.\n",
    "\n",
    "    > **Hint** Assuming that this ETF contains equally weighted returns, you can average the returns for each asset to get the average returns of the portfolio. You can then use the average returns of the portfolio to calculate the annualized returns and the cumulative returns. For the calculation to get the average daily returns for the portfolio, use the following code:\n",
    "    >\n",
    "    > ```python\n",
    "    > etf_portfolio_returns = etf_portfolio['daily_returns'].mean(axis=1)\n",
    "    > ```\n",
    "    >\n",
    "    > You can use the average daily returns of the portfolio the same way that you used the daily returns of a single asset.\n",
    "\n",
    "3. Use the average daily returns in the `etf_portfolio_returns` DataFrame to calculate the annualized returns for the portfolio. Display the annualized return value of the ETF portfolio.\n",
    "\n",
    "> **Hint**  To calculate the annualized returns, multiply the mean of the `etf_portfolio_returns` values by 252.\n",
    ">\n",
    "> To convert the decimal values to percentages, multiply the results by 100.\n",
    "\n",
    "4. Use the average daily returns in the `etf_portfolio_returns` DataFrame to calculate the cumulative returns of the ETF portfolio.\n",
    "\n",
    "5. Using hvPlot, create an interactive line plot that visualizes the cumulative return values of the ETF portfolio. Reflect the “time” column of the DataFrame on the x-axis. Make sure that you professionally style and format your visualization to enhance its readability.\n",
    "\n",
    "#### Deploy the Notebook as a Web Application\n",
    "\n",
    "For this part of the assignment, complete the following steps:\n",
    "\n",
    "1. Use the Voilà library to deploy your notebook as a web application. You can deploy the web application locally on your computer.\n",
    "\n",
    "2. Take a screen recording or screenshots to show how the web application appears when using Voilà. Include the recording or screenshots in the `README.md` file for your GitHub repository.\n"
   ]
  },
  {
   "attachments": {},
   "cell_type": "markdown",
   "metadata": {},
   "source": [
    "## Review the following code which imports the required libraries, initiates your SQLite database, popluates the database with records from the `etf.db` seed file that was included in your Starter_Code folder, creates the database engine, and confirms that data tables that it now contains."
   ]
  },
  {
   "cell_type": "code",
   "execution_count": 25,
   "metadata": {},
   "outputs": [
    {
     "name": "stderr",
     "output_type": "stream",
     "text": [
      "c:\\Users\\ozzyb\\anaconda3\\envs\\dev\\lib\\site-packages\\ipykernel_launcher.py:14: SADeprecationWarning: The Engine.table_names() method is deprecated and will be removed in a future release.  Please refer to Inspector.get_table_names(). (deprecated since: 1.4)\n",
      "  \n"
     ]
    },
    {
     "data": {
      "text/plain": [
       "['GDOT', 'GS', 'PYPL', 'SQ']"
      ]
     },
     "execution_count": 25,
     "metadata": {},
     "output_type": "execute_result"
    }
   ],
   "source": [
    "# Importing the required libraries and dependencies\n",
    "import numpy as np\n",
    "import pandas as pd\n",
    "import hvplot.pandas\n",
    "import sqlalchemy\n",
    "\n",
    "# Create a temporary SQLite database and populate the database with content from the etf.db seed file\n",
    "database_connection_string = 'sqlite:///etf.db'\n",
    "\n",
    "# Create an engine to interact with the SQLite database\n",
    "engine = sqlalchemy.create_engine(database_connection_string)\n",
    "\n",
    "# Confirm that table names contained in the SQLite database.\n",
    "engine.table_names()"
   ]
  },
  {
   "attachments": {},
   "cell_type": "markdown",
   "metadata": {},
   "source": [
    "## Analyze a single asset in the FinTech ETF\n",
    "\n",
    "For this part of the assignment, you’ll use SQL queries with Python, Pandas, and hvPlot to analyze the performance of a single asset from the ETF.\n",
    "\n",
    "Complete the following steps:\n",
    "\n",
    "1. Write a SQL `SELECT` statement by using an f-string that reads all the PYPL data from the database. Using the SQL `SELECT` statement, execute a query that reads the PYPL data from the database into a Pandas DataFrame.\n",
    "\n",
    "2. Use the `head` and `tail` functions to review the first five and the last five rows of the DataFrame. Make a note of the beginning and end dates that are available from this dataset. You’ll use this information to complete your analysis.\n",
    "\n",
    "3. Using hvPlot, create an interactive visualization for the PYPL daily returns. Reflect the “time” column of the DataFrame on the x-axis. Make sure that you professionally style and format your visualization to enhance its readability.\n",
    "\n",
    "4. Using hvPlot, create an interactive visualization for the PYPL cumulative returns. Reflect the “time” column of the DataFrame on the x-axis. Make sure that you professionally style and format your visualization to enhance its readability.\n",
    "\n"
   ]
  },
  {
   "attachments": {},
   "cell_type": "markdown",
   "metadata": {},
   "source": [
    "### Step 1: Write a SQL `SELECT` statement by using an f-string that reads all the PYPL data from the database. Using the SQL `SELECT` statement, execute a query that reads the PYPL data from the database into a Pandas DataFrame."
   ]
  },
  {
   "cell_type": "code",
   "execution_count": 26,
   "metadata": {},
   "outputs": [],
   "source": [
    "# Write a SQL query to SELECT all of the data from the PYPL table\n",
    "query = \"\"\"SELECT *\n",
    "from \"PYPL\"\n",
    "\"\"\"\n",
    "\n",
    "# Use the query to read the PYPL data into a Pandas DataFrame\n",
    "pypl_dataframe = pd.read_sql(query, con=engine)\n",
    "pypl_dataframe['time']=pd.to_datetime(pypl_dataframe['time'])\n",
    "pypl_dataframe=pypl_dataframe.set_index('time')"
   ]
  },
  {
   "attachments": {},
   "cell_type": "markdown",
   "metadata": {},
   "source": [
    "### Step 2: Use the `head` and `tail` functions to review the first five and the last five rows of the DataFrame. Make a note of the beginning and end dates that are available from this dataset. You’ll use this information to complete your analysis."
   ]
  },
  {
   "cell_type": "code",
   "execution_count": 27,
   "metadata": {},
   "outputs": [
    {
     "data": {
      "text/html": [
       "<div>\n",
       "<style scoped>\n",
       "    .dataframe tbody tr th:only-of-type {\n",
       "        vertical-align: middle;\n",
       "    }\n",
       "\n",
       "    .dataframe tbody tr th {\n",
       "        vertical-align: top;\n",
       "    }\n",
       "\n",
       "    .dataframe thead th {\n",
       "        text-align: right;\n",
       "    }\n",
       "</style>\n",
       "<table border=\"1\" class=\"dataframe\">\n",
       "  <thead>\n",
       "    <tr style=\"text-align: right;\">\n",
       "      <th></th>\n",
       "      <th>open</th>\n",
       "      <th>high</th>\n",
       "      <th>low</th>\n",
       "      <th>close</th>\n",
       "      <th>volume</th>\n",
       "      <th>daily_returns</th>\n",
       "    </tr>\n",
       "    <tr>\n",
       "      <th>time</th>\n",
       "      <th></th>\n",
       "      <th></th>\n",
       "      <th></th>\n",
       "      <th></th>\n",
       "      <th></th>\n",
       "      <th></th>\n",
       "    </tr>\n",
       "  </thead>\n",
       "  <tbody>\n",
       "    <tr>\n",
       "      <th>2016-12-16</th>\n",
       "      <td>39.90</td>\n",
       "      <td>39.90</td>\n",
       "      <td>39.12</td>\n",
       "      <td>39.32</td>\n",
       "      <td>7298861</td>\n",
       "      <td>-0.005564</td>\n",
       "    </tr>\n",
       "    <tr>\n",
       "      <th>2016-12-19</th>\n",
       "      <td>39.40</td>\n",
       "      <td>39.80</td>\n",
       "      <td>39.11</td>\n",
       "      <td>39.45</td>\n",
       "      <td>3436478</td>\n",
       "      <td>0.003306</td>\n",
       "    </tr>\n",
       "    <tr>\n",
       "      <th>2016-12-20</th>\n",
       "      <td>39.61</td>\n",
       "      <td>39.74</td>\n",
       "      <td>39.26</td>\n",
       "      <td>39.74</td>\n",
       "      <td>2940991</td>\n",
       "      <td>0.007351</td>\n",
       "    </tr>\n",
       "    <tr>\n",
       "      <th>2016-12-21</th>\n",
       "      <td>39.84</td>\n",
       "      <td>40.74</td>\n",
       "      <td>39.82</td>\n",
       "      <td>40.09</td>\n",
       "      <td>5826704</td>\n",
       "      <td>0.008807</td>\n",
       "    </tr>\n",
       "    <tr>\n",
       "      <th>2016-12-22</th>\n",
       "      <td>40.04</td>\n",
       "      <td>40.09</td>\n",
       "      <td>39.54</td>\n",
       "      <td>39.68</td>\n",
       "      <td>4338385</td>\n",
       "      <td>-0.010227</td>\n",
       "    </tr>\n",
       "  </tbody>\n",
       "</table>\n",
       "</div>"
      ],
      "text/plain": [
       "             open   high    low  close   volume  daily_returns\n",
       "time                                                          \n",
       "2016-12-16  39.90  39.90  39.12  39.32  7298861      -0.005564\n",
       "2016-12-19  39.40  39.80  39.11  39.45  3436478       0.003306\n",
       "2016-12-20  39.61  39.74  39.26  39.74  2940991       0.007351\n",
       "2016-12-21  39.84  40.74  39.82  40.09  5826704       0.008807\n",
       "2016-12-22  40.04  40.09  39.54  39.68  4338385      -0.010227"
      ]
     },
     "execution_count": 27,
     "metadata": {},
     "output_type": "execute_result"
    }
   ],
   "source": [
    "# View the first 5 rows of the DataFrame.\n",
    "# YOUR CODE HERE\n",
    "pypl_dataframe.head()"
   ]
  },
  {
   "cell_type": "code",
   "execution_count": 28,
   "metadata": {},
   "outputs": [
    {
     "data": {
      "text/html": [
       "<div>\n",
       "<style scoped>\n",
       "    .dataframe tbody tr th:only-of-type {\n",
       "        vertical-align: middle;\n",
       "    }\n",
       "\n",
       "    .dataframe tbody tr th {\n",
       "        vertical-align: top;\n",
       "    }\n",
       "\n",
       "    .dataframe thead th {\n",
       "        text-align: right;\n",
       "    }\n",
       "</style>\n",
       "<table border=\"1\" class=\"dataframe\">\n",
       "  <thead>\n",
       "    <tr style=\"text-align: right;\">\n",
       "      <th></th>\n",
       "      <th>open</th>\n",
       "      <th>high</th>\n",
       "      <th>low</th>\n",
       "      <th>close</th>\n",
       "      <th>volume</th>\n",
       "      <th>daily_returns</th>\n",
       "    </tr>\n",
       "    <tr>\n",
       "      <th>time</th>\n",
       "      <th></th>\n",
       "      <th></th>\n",
       "      <th></th>\n",
       "      <th></th>\n",
       "      <th></th>\n",
       "      <th></th>\n",
       "    </tr>\n",
       "  </thead>\n",
       "  <tbody>\n",
       "    <tr>\n",
       "      <th>2020-11-30</th>\n",
       "      <td>212.51</td>\n",
       "      <td>215.83</td>\n",
       "      <td>207.0900</td>\n",
       "      <td>214.200</td>\n",
       "      <td>8992681</td>\n",
       "      <td>0.013629</td>\n",
       "    </tr>\n",
       "    <tr>\n",
       "      <th>2020-12-01</th>\n",
       "      <td>217.15</td>\n",
       "      <td>220.57</td>\n",
       "      <td>214.3401</td>\n",
       "      <td>216.520</td>\n",
       "      <td>9148174</td>\n",
       "      <td>0.010831</td>\n",
       "    </tr>\n",
       "    <tr>\n",
       "      <th>2020-12-02</th>\n",
       "      <td>215.60</td>\n",
       "      <td>215.75</td>\n",
       "      <td>210.5000</td>\n",
       "      <td>212.660</td>\n",
       "      <td>6414746</td>\n",
       "      <td>-0.017827</td>\n",
       "    </tr>\n",
       "    <tr>\n",
       "      <th>2020-12-03</th>\n",
       "      <td>213.33</td>\n",
       "      <td>216.93</td>\n",
       "      <td>213.1100</td>\n",
       "      <td>214.680</td>\n",
       "      <td>6463339</td>\n",
       "      <td>0.009499</td>\n",
       "    </tr>\n",
       "    <tr>\n",
       "      <th>2020-12-04</th>\n",
       "      <td>214.88</td>\n",
       "      <td>217.28</td>\n",
       "      <td>213.0100</td>\n",
       "      <td>217.235</td>\n",
       "      <td>2118319</td>\n",
       "      <td>0.011901</td>\n",
       "    </tr>\n",
       "  </tbody>\n",
       "</table>\n",
       "</div>"
      ],
      "text/plain": [
       "              open    high       low    close   volume  daily_returns\n",
       "time                                                                 \n",
       "2020-11-30  212.51  215.83  207.0900  214.200  8992681       0.013629\n",
       "2020-12-01  217.15  220.57  214.3401  216.520  9148174       0.010831\n",
       "2020-12-02  215.60  215.75  210.5000  212.660  6414746      -0.017827\n",
       "2020-12-03  213.33  216.93  213.1100  214.680  6463339       0.009499\n",
       "2020-12-04  214.88  217.28  213.0100  217.235  2118319       0.011901"
      ]
     },
     "execution_count": 28,
     "metadata": {},
     "output_type": "execute_result"
    }
   ],
   "source": [
    "# View the last 5 rows of the DataFrame.\n",
    "pypl_dataframe.tail()\n",
    "\n"
   ]
  },
  {
   "attachments": {},
   "cell_type": "markdown",
   "metadata": {},
   "source": [
    "### Step 3: Using hvPlot, create an interactive visualization for the PYPL daily returns. Reflect the “time” column of the DataFrame on the x-axis. Make sure that you professionally style and format your visualization to enhance its readability."
   ]
  },
  {
   "cell_type": "code",
   "execution_count": 29,
   "metadata": {},
   "outputs": [
    {
     "data": {},
     "metadata": {},
     "output_type": "display_data"
    },
    {
     "data": {
      "application/vnd.holoviews_exec.v0+json": "",
      "text/html": [
       "<div id='1726'>\n",
       "  <div class=\"bk-root\" id=\"17769c30-b2b1-4a1a-bb1c-c26c7d27e11d\" data-root-id=\"1726\"></div>\n",
       "</div>\n",
       "<script type=\"application/javascript\">(function(root) {\n",
       "  function embed_document(root) {\n",
       "    var docs_json = {\"f0bc8a0d-c90a-486b-833c-55fb3868ca46\":{\"defs\":[{\"extends\":null,\"module\":null,\"name\":\"ReactiveHTML1\",\"overrides\":[],\"properties\":[]},{\"extends\":null,\"module\":null,\"name\":\"FlexBox1\",\"overrides\":[],\"properties\":[{\"default\":\"flex-start\",\"kind\":null,\"name\":\"align_content\"},{\"default\":\"flex-start\",\"kind\":null,\"name\":\"align_items\"},{\"default\":\"row\",\"kind\":null,\"name\":\"flex_direction\"},{\"default\":\"wrap\",\"kind\":null,\"name\":\"flex_wrap\"},{\"default\":\"flex-start\",\"kind\":null,\"name\":\"justify_content\"}]},{\"extends\":null,\"module\":null,\"name\":\"GridStack1\",\"overrides\":[],\"properties\":[{\"default\":\"warn\",\"kind\":null,\"name\":\"mode\"},{\"default\":null,\"kind\":null,\"name\":\"ncols\"},{\"default\":null,\"kind\":null,\"name\":\"nrows\"},{\"default\":true,\"kind\":null,\"name\":\"allow_resize\"},{\"default\":true,\"kind\":null,\"name\":\"allow_drag\"},{\"default\":[],\"kind\":null,\"name\":\"state\"}]},{\"extends\":null,\"module\":null,\"name\":\"click1\",\"overrides\":[],\"properties\":[{\"default\":\"\",\"kind\":null,\"name\":\"terminal_output\"},{\"default\":\"\",\"kind\":null,\"name\":\"debug_name\"},{\"default\":0,\"kind\":null,\"name\":\"clears\"}]},{\"extends\":null,\"module\":null,\"name\":\"NotificationAreaBase1\",\"overrides\":[],\"properties\":[{\"default\":\"bottom-right\",\"kind\":null,\"name\":\"position\"},{\"default\":0,\"kind\":null,\"name\":\"_clear\"}]},{\"extends\":null,\"module\":null,\"name\":\"NotificationArea1\",\"overrides\":[],\"properties\":[{\"default\":[],\"kind\":null,\"name\":\"notifications\"},{\"default\":\"bottom-right\",\"kind\":null,\"name\":\"position\"},{\"default\":0,\"kind\":null,\"name\":\"_clear\"},{\"default\":[{\"background\":\"#ffc107\",\"icon\":{\"className\":\"fas fa-exclamation-triangle\",\"color\":\"white\",\"tagName\":\"i\"},\"type\":\"warning\"},{\"background\":\"#007bff\",\"icon\":{\"className\":\"fas fa-info-circle\",\"color\":\"white\",\"tagName\":\"i\"},\"type\":\"info\"}],\"kind\":null,\"name\":\"types\"}]},{\"extends\":null,\"module\":null,\"name\":\"Notification\",\"overrides\":[],\"properties\":[{\"default\":null,\"kind\":null,\"name\":\"background\"},{\"default\":3000,\"kind\":null,\"name\":\"duration\"},{\"default\":null,\"kind\":null,\"name\":\"icon\"},{\"default\":\"\",\"kind\":null,\"name\":\"message\"},{\"default\":null,\"kind\":null,\"name\":\"notification_type\"},{\"default\":false,\"kind\":null,\"name\":\"_destroyed\"}]},{\"extends\":null,\"module\":null,\"name\":\"TemplateActions1\",\"overrides\":[],\"properties\":[{\"default\":0,\"kind\":null,\"name\":\"open_modal\"},{\"default\":0,\"kind\":null,\"name\":\"close_modal\"}]},{\"extends\":null,\"module\":null,\"name\":\"MaterialTemplateActions1\",\"overrides\":[],\"properties\":[{\"default\":0,\"kind\":null,\"name\":\"open_modal\"},{\"default\":0,\"kind\":null,\"name\":\"close_modal\"}]}],\"roots\":{\"references\":[{\"attributes\":{\"axis_label\":\"Percentage\",\"coordinates\":null,\"formatter\":{\"id\":\"1770\"},\"group\":null,\"major_label_policy\":{\"id\":\"1776\"},\"ticker\":{\"id\":\"1745\"}},\"id\":\"1744\",\"type\":\"LinearAxis\"},{\"attributes\":{\"days\":[1,15]},\"id\":\"1794\",\"type\":\"DaysTicker\"},{\"attributes\":{},\"id\":\"1738\",\"type\":\"LinearScale\"},{\"attributes\":{\"bottom_units\":\"screen\",\"coordinates\":null,\"fill_alpha\":0.5,\"fill_color\":\"lightgrey\",\"group\":null,\"left_units\":\"screen\",\"level\":\"overlay\",\"line_alpha\":1.0,\"line_color\":\"black\",\"line_dash\":[4,4],\"line_width\":2,\"right_units\":\"screen\",\"syncable\":false,\"top_units\":\"screen\"},\"id\":\"1753\",\"type\":\"BoxAnnotation\"},{\"attributes\":{},\"id\":\"1745\",\"type\":\"BasicTicker\"},{\"attributes\":{},\"id\":\"1762\",\"type\":\"Selection\"},{\"attributes\":{\"months\":[0,2,4,6,8,10]},\"id\":\"1796\",\"type\":\"MonthsTicker\"},{\"attributes\":{\"axis\":{\"id\":\"1744\"},\"coordinates\":null,\"dimension\":1,\"grid_line_color\":null,\"group\":null,\"ticker\":null},\"id\":\"1747\",\"type\":\"Grid\"},{\"attributes\":{\"months\":[0,4,8]},\"id\":\"1797\",\"type\":\"MonthsTicker\"},{\"attributes\":{\"mantissas\":[1,2,5],\"max_interval\":500.0,\"num_minor_ticks\":0},\"id\":\"1788\",\"type\":\"AdaptiveTicker\"},{\"attributes\":{\"format\":\"%.2f\"},\"id\":\"1770\",\"type\":\"PrintfTickFormatter\"},{\"attributes\":{},\"id\":\"1776\",\"type\":\"AllLabels\"},{\"attributes\":{\"months\":[0,6]},\"id\":\"1798\",\"type\":\"MonthsTicker\"},{\"attributes\":{\"axis_label\":\"Date\",\"coordinates\":null,\"formatter\":{\"id\":\"1772\"},\"group\":null,\"major_label_orientation\":0.7853981633974483,\"major_label_policy\":{\"id\":\"1773\"},\"ticker\":{\"id\":\"1741\"}},\"id\":\"1740\",\"type\":\"DatetimeAxis\"},{\"attributes\":{\"days\":[1,8,15,22]},\"id\":\"1793\",\"type\":\"DaysTicker\"},{\"attributes\":{\"children\":[{\"id\":\"1727\"},{\"id\":\"1731\"},{\"id\":\"1800\"}],\"margin\":[0,0,0,0],\"name\":\"Row01375\",\"tags\":[\"embedded\"]},\"id\":\"1726\",\"type\":\"Row\"},{\"attributes\":{\"coordinates\":null,\"data_source\":{\"id\":\"1761\"},\"glyph\":{\"id\":\"1764\"},\"group\":null,\"hover_glyph\":null,\"muted_glyph\":{\"id\":\"1766\"},\"nonselection_glyph\":{\"id\":\"1765\"},\"selection_glyph\":{\"id\":\"1769\"},\"view\":{\"id\":\"1768\"}},\"id\":\"1767\",\"type\":\"GlyphRenderer\"},{\"attributes\":{},\"id\":\"1785\",\"type\":\"UnionRenderers\"},{\"attributes\":{\"line_alpha\":0.1,\"line_color\":\"#30a2da\",\"line_width\":2,\"x\":{\"field\":\"time\"},\"y\":{\"field\":\"daily_returns\"}},\"id\":\"1765\",\"type\":\"Line\"},{\"attributes\":{},\"id\":\"1773\",\"type\":\"AllLabels\"},{\"attributes\":{},\"id\":\"1799\",\"type\":\"YearsTicker\"},{\"attributes\":{\"below\":[{\"id\":\"1740\"}],\"center\":[{\"id\":\"1743\"},{\"id\":\"1747\"}],\"height\":500,\"left\":[{\"id\":\"1744\"}],\"margin\":[5,5,5,5],\"min_border_bottom\":10,\"min_border_left\":10,\"min_border_right\":10,\"min_border_top\":10,\"renderers\":[{\"id\":\"1767\"}],\"sizing_mode\":\"fixed\",\"title\":{\"id\":\"1732\"},\"toolbar\":{\"id\":\"1754\"},\"width\":1000,\"x_range\":{\"id\":\"1728\"},\"x_scale\":{\"id\":\"1736\"},\"y_range\":{\"id\":\"1729\"},\"y_scale\":{\"id\":\"1738\"}},\"id\":\"1731\",\"subtype\":\"Figure\",\"type\":\"Plot\"},{\"attributes\":{\"margin\":[5,5,5,5],\"name\":\"HSpacer01380\",\"sizing_mode\":\"stretch_width\"},\"id\":\"1800\",\"type\":\"Spacer\"},{\"attributes\":{},\"id\":\"1772\",\"type\":\"DatetimeTickFormatter\"},{\"attributes\":{\"end\":17.15458661010297,\"reset_end\":17.15458661010297,\"reset_start\":-19.523816539422576,\"start\":-19.523816539422576,\"tags\":[[[\"daily_returns\",\"daily_returns\",null]]]},\"id\":\"1729\",\"type\":\"Range1d\"},{\"attributes\":{\"line_alpha\":0.2,\"line_color\":\"#30a2da\",\"line_width\":2,\"x\":{\"field\":\"time\"},\"y\":{\"field\":\"daily_returns\"}},\"id\":\"1766\",\"type\":\"Line\"},{\"attributes\":{},\"id\":\"1748\",\"type\":\"SaveTool\"},{\"attributes\":{\"base\":60,\"mantissas\":[1,2,5,10,15,20,30],\"max_interval\":1800000.0,\"min_interval\":1000.0,\"num_minor_ticks\":0},\"id\":\"1789\",\"type\":\"AdaptiveTicker\"},{\"attributes\":{},\"id\":\"1749\",\"type\":\"PanTool\"},{\"attributes\":{\"days\":[1,2,3,4,5,6,7,8,9,10,11,12,13,14,15,16,17,18,19,20,21,22,23,24,25,26,27,28,29,30,31]},\"id\":\"1791\",\"type\":\"DaysTicker\"},{\"attributes\":{},\"id\":\"1752\",\"type\":\"ResetTool\"},{\"attributes\":{},\"id\":\"1750\",\"type\":\"WheelZoomTool\"},{\"attributes\":{\"base\":24,\"mantissas\":[1,2,4,6,8,12],\"max_interval\":43200000.0,\"min_interval\":3600000.0,\"num_minor_ticks\":0},\"id\":\"1790\",\"type\":\"AdaptiveTicker\"},{\"attributes\":{\"end\":1607040000000.0,\"reset_end\":1607040000000.0,\"reset_start\":1481846400000.0,\"start\":1481846400000.0,\"tags\":[[[\"time\",\"time\",null]]]},\"id\":\"1728\",\"type\":\"Range1d\"},{\"attributes\":{\"margin\":[5,5,5,5],\"name\":\"HSpacer01379\",\"sizing_mode\":\"stretch_width\"},\"id\":\"1727\",\"type\":\"Spacer\"},{\"attributes\":{\"source\":{\"id\":\"1761\"}},\"id\":\"1768\",\"type\":\"CDSView\"},{\"attributes\":{\"line_color\":\"#30a2da\",\"line_width\":2,\"x\":{\"field\":\"time\"},\"y\":{\"field\":\"daily_returns\"}},\"id\":\"1764\",\"type\":\"Line\"},{\"attributes\":{\"data\":{\"daily_returns\":{\"__ndarray__\":\"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\",\"dtype\":\"float64\",\"order\":\"little\",\"shape\":[999]},\"time\":{\"__ndarray__\":\"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\",\"dtype\":\"float64\",\"order\":\"little\",\"shape\":[999]}},\"selected\":{\"id\":\"1762\"},\"selection_policy\":{\"id\":\"1785\"}},\"id\":\"1761\",\"type\":\"ColumnDataSource\"},{\"attributes\":{\"overlay\":{\"id\":\"1753\"}},\"id\":\"1751\",\"type\":\"BoxZoomTool\"},{\"attributes\":{\"line_color\":\"#30a2da\",\"line_width\":2,\"x\":{\"field\":\"time\"},\"y\":{\"field\":\"daily_returns\"}},\"id\":\"1769\",\"type\":\"Line\"},{\"attributes\":{},\"id\":\"1736\",\"type\":\"LinearScale\"},{\"attributes\":{\"callback\":null,\"formatters\":{\"@{time}\":\"datetime\"},\"renderers\":[{\"id\":\"1767\"}],\"tags\":[\"hv_created\"],\"tooltips\":[[\"time\",\"@{time}{%F %T}\"],[\"daily_returns\",\"@{daily_returns}\"]]},\"id\":\"1730\",\"type\":\"HoverTool\"},{\"attributes\":{\"days\":[1,4,7,10,13,16,19,22,25,28]},\"id\":\"1792\",\"type\":\"DaysTicker\"},{\"attributes\":{\"tools\":[{\"id\":\"1730\"},{\"id\":\"1748\"},{\"id\":\"1749\"},{\"id\":\"1750\"},{\"id\":\"1751\"},{\"id\":\"1752\"}]},\"id\":\"1754\",\"type\":\"Toolbar\"},{\"attributes\":{\"axis\":{\"id\":\"1740\"},\"coordinates\":null,\"grid_line_color\":null,\"group\":null,\"ticker\":null},\"id\":\"1743\",\"type\":\"Grid\"},{\"attributes\":{\"months\":[0,1,2,3,4,5,6,7,8,9,10,11]},\"id\":\"1795\",\"type\":\"MonthsTicker\"},{\"attributes\":{\"coordinates\":null,\"group\":null,\"text\":\"PYPL - Daily Returns\",\"text_color\":\"black\",\"text_font_size\":\"12pt\"},\"id\":\"1732\",\"type\":\"Title\"},{\"attributes\":{\"num_minor_ticks\":5,\"tickers\":[{\"id\":\"1788\"},{\"id\":\"1789\"},{\"id\":\"1790\"},{\"id\":\"1791\"},{\"id\":\"1792\"},{\"id\":\"1793\"},{\"id\":\"1794\"},{\"id\":\"1795\"},{\"id\":\"1796\"},{\"id\":\"1797\"},{\"id\":\"1798\"},{\"id\":\"1799\"}]},\"id\":\"1741\",\"type\":\"DatetimeTicker\"}],\"root_ids\":[\"1726\"]},\"title\":\"Bokeh Application\",\"version\":\"2.4.3\"}};\n",
       "    var render_items = [{\"docid\":\"f0bc8a0d-c90a-486b-833c-55fb3868ca46\",\"root_ids\":[\"1726\"],\"roots\":{\"1726\":\"17769c30-b2b1-4a1a-bb1c-c26c7d27e11d\"}}];\n",
       "    root.Bokeh.embed.embed_items_notebook(docs_json, render_items);\n",
       "  }\n",
       "  if (root.Bokeh !== undefined && root.Bokeh.Panel !== undefined) {\n",
       "    embed_document(root);\n",
       "  } else {\n",
       "    var attempts = 0;\n",
       "    var timer = setInterval(function(root) {\n",
       "      if (root.Bokeh !== undefined && root.Bokeh.Panel !== undefined) {\n",
       "        clearInterval(timer);\n",
       "        embed_document(root);\n",
       "      } else if (document.readyState == \"complete\") {\n",
       "        attempts++;\n",
       "        if (attempts > 200) {\n",
       "          clearInterval(timer);\n",
       "          console.log(\"Bokeh: ERROR: Unable to run BokehJS code because BokehJS library is missing\");\n",
       "        }\n",
       "      }\n",
       "    }, 25, root)\n",
       "  }\n",
       "})(window);</script>"
      ],
      "text/plain": [
       ":Curve   [time]   (daily_returns)"
      ]
     },
     "execution_count": 29,
     "metadata": {
      "application/vnd.holoviews_exec.v0+json": {
       "id": "1726"
      }
     },
     "output_type": "execute_result"
    }
   ],
   "source": [
    "# Create an interactive visualization with hvplot to plot the daily returns for PYPL.\n",
    "pypl_dataframe['daily_returns']= pypl_dataframe['daily_returns'] * 100\n",
    "\n",
    "pypl_dataframe[\"daily_returns\"].hvplot(\n",
    "    height=500,\n",
    "    width=1000,\n",
    "    ylabel=\"Percentage\",\n",
    "    title=\"PYPL - Daily Returns\",\n",
    "    xlabel=\"Date\",\n",
    "    rot=45).opts(yformatter='%.2f')\n"
   ]
  },
  {
   "attachments": {},
   "cell_type": "markdown",
   "metadata": {},
   "source": [
    "### Step 4: Using hvPlot, create an interactive visualization for the PYPL cumulative returns. Reflect the “time” column of the DataFrame on the x-axis. Make sure that you professionally style and format your visualization to enhance its readability."
   ]
  },
  {
   "cell_type": "code",
   "execution_count": 30,
   "metadata": {},
   "outputs": [
    {
     "data": {
      "text/plain": [
       "time\n",
       "2016-12-16    4.436014e-01\n",
       "2016-12-19    5.902652e-01\n",
       "2016-12-20    1.024174e+00\n",
       "2016-12-21    1.926189e+00\n",
       "2016-12-22   -4.372242e-02\n",
       "                  ...     \n",
       "2020-11-30    1.566386e+93\n",
       "2020-12-01    3.262938e+93\n",
       "2020-12-02   -2.554049e+93\n",
       "2020-12-03   -4.980071e+93\n",
       "2020-12-04   -1.090707e+94\n",
       "Name: daily_returns, Length: 999, dtype: float64"
      ]
     },
     "metadata": {},
     "output_type": "display_data"
    },
    {
     "data": {},
     "metadata": {},
     "output_type": "display_data"
    },
    {
     "data": {
      "application/vnd.holoviews_exec.v0+json": "",
      "text/html": [
       "<div id='1907'>\n",
       "  <div class=\"bk-root\" id=\"98a4d756-8641-45ec-871e-4981a6449863\" data-root-id=\"1907\"></div>\n",
       "</div>\n",
       "<script type=\"application/javascript\">(function(root) {\n",
       "  function embed_document(root) {\n",
       "    var docs_json = {\"641c6141-07f7-44d2-80b7-7ffa0dd9eadb\":{\"defs\":[{\"extends\":null,\"module\":null,\"name\":\"ReactiveHTML1\",\"overrides\":[],\"properties\":[]},{\"extends\":null,\"module\":null,\"name\":\"FlexBox1\",\"overrides\":[],\"properties\":[{\"default\":\"flex-start\",\"kind\":null,\"name\":\"align_content\"},{\"default\":\"flex-start\",\"kind\":null,\"name\":\"align_items\"},{\"default\":\"row\",\"kind\":null,\"name\":\"flex_direction\"},{\"default\":\"wrap\",\"kind\":null,\"name\":\"flex_wrap\"},{\"default\":\"flex-start\",\"kind\":null,\"name\":\"justify_content\"}]},{\"extends\":null,\"module\":null,\"name\":\"GridStack1\",\"overrides\":[],\"properties\":[{\"default\":\"warn\",\"kind\":null,\"name\":\"mode\"},{\"default\":null,\"kind\":null,\"name\":\"ncols\"},{\"default\":null,\"kind\":null,\"name\":\"nrows\"},{\"default\":true,\"kind\":null,\"name\":\"allow_resize\"},{\"default\":true,\"kind\":null,\"name\":\"allow_drag\"},{\"default\":[],\"kind\":null,\"name\":\"state\"}]},{\"extends\":null,\"module\":null,\"name\":\"click1\",\"overrides\":[],\"properties\":[{\"default\":\"\",\"kind\":null,\"name\":\"terminal_output\"},{\"default\":\"\",\"kind\":null,\"name\":\"debug_name\"},{\"default\":0,\"kind\":null,\"name\":\"clears\"}]},{\"extends\":null,\"module\":null,\"name\":\"NotificationAreaBase1\",\"overrides\":[],\"properties\":[{\"default\":\"bottom-right\",\"kind\":null,\"name\":\"position\"},{\"default\":0,\"kind\":null,\"name\":\"_clear\"}]},{\"extends\":null,\"module\":null,\"name\":\"NotificationArea1\",\"overrides\":[],\"properties\":[{\"default\":[],\"kind\":null,\"name\":\"notifications\"},{\"default\":\"bottom-right\",\"kind\":null,\"name\":\"position\"},{\"default\":0,\"kind\":null,\"name\":\"_clear\"},{\"default\":[{\"background\":\"#ffc107\",\"icon\":{\"className\":\"fas fa-exclamation-triangle\",\"color\":\"white\",\"tagName\":\"i\"},\"type\":\"warning\"},{\"background\":\"#007bff\",\"icon\":{\"className\":\"fas fa-info-circle\",\"color\":\"white\",\"tagName\":\"i\"},\"type\":\"info\"}],\"kind\":null,\"name\":\"types\"}]},{\"extends\":null,\"module\":null,\"name\":\"Notification\",\"overrides\":[],\"properties\":[{\"default\":null,\"kind\":null,\"name\":\"background\"},{\"default\":3000,\"kind\":null,\"name\":\"duration\"},{\"default\":null,\"kind\":null,\"name\":\"icon\"},{\"default\":\"\",\"kind\":null,\"name\":\"message\"},{\"default\":null,\"kind\":null,\"name\":\"notification_type\"},{\"default\":false,\"kind\":null,\"name\":\"_destroyed\"}]},{\"extends\":null,\"module\":null,\"name\":\"TemplateActions1\",\"overrides\":[],\"properties\":[{\"default\":0,\"kind\":null,\"name\":\"open_modal\"},{\"default\":0,\"kind\":null,\"name\":\"close_modal\"}]},{\"extends\":null,\"module\":null,\"name\":\"MaterialTemplateActions1\",\"overrides\":[],\"properties\":[{\"default\":0,\"kind\":null,\"name\":\"open_modal\"},{\"default\":0,\"kind\":null,\"name\":\"close_modal\"}]}],\"roots\":{\"references\":[{\"attributes\":{\"axis\":{\"id\":\"1921\"},\"coordinates\":null,\"grid_line_color\":null,\"group\":null,\"ticker\":null},\"id\":\"1924\",\"type\":\"Grid\"},{\"attributes\":{},\"id\":\"1933\",\"type\":\"ResetTool\"},{\"attributes\":{\"days\":[1,4,7,10,13,16,19,22,25,28]},\"id\":\"1973\",\"type\":\"DaysTicker\"},{\"attributes\":{\"coordinates\":null,\"group\":null,\"text\":\"PYPL - Cumulative Returns\",\"text_color\":\"black\",\"text_font_size\":\"12pt\"},\"id\":\"1913\",\"type\":\"Title\"},{\"attributes\":{\"line_color\":\"#30a2da\",\"line_width\":2,\"x\":{\"field\":\"time\"},\"y\":{\"field\":\"daily_returns\"}},\"id\":\"1950\",\"type\":\"Line\"},{\"attributes\":{\"num_minor_ticks\":5,\"tickers\":[{\"id\":\"1969\"},{\"id\":\"1970\"},{\"id\":\"1971\"},{\"id\":\"1972\"},{\"id\":\"1973\"},{\"id\":\"1974\"},{\"id\":\"1975\"},{\"id\":\"1976\"},{\"id\":\"1977\"},{\"id\":\"1978\"},{\"id\":\"1979\"},{\"id\":\"1980\"}]},\"id\":\"1922\",\"type\":\"DatetimeTicker\"},{\"attributes\":{\"axis_label\":\"Percentage\",\"coordinates\":null,\"formatter\":{\"id\":\"1951\"},\"group\":null,\"major_label_policy\":{\"id\":\"1957\"},\"ticker\":{\"id\":\"1926\"}},\"id\":\"1925\",\"type\":\"LinearAxis\"},{\"attributes\":{\"months\":[0,1,2,3,4,5,6,7,8,9,10,11]},\"id\":\"1976\",\"type\":\"MonthsTicker\"},{\"attributes\":{\"tools\":[{\"id\":\"1911\"},{\"id\":\"1929\"},{\"id\":\"1930\"},{\"id\":\"1931\"},{\"id\":\"1932\"},{\"id\":\"1933\"}]},\"id\":\"1935\",\"type\":\"Toolbar\"},{\"attributes\":{},\"id\":\"1919\",\"type\":\"LinearScale\"},{\"attributes\":{\"end\":4.679938529759635e+93,\"reset_end\":4.679938529759635e+93,\"reset_start\":-1.2324071287701176e+94,\"start\":-1.2324071287701176e+94,\"tags\":[[[\"daily_returns\",\"daily_returns\",null]]]},\"id\":\"1910\",\"type\":\"Range1d\"},{\"attributes\":{\"mantissas\":[1,2,5],\"max_interval\":500.0,\"num_minor_ticks\":0},\"id\":\"1969\",\"type\":\"AdaptiveTicker\"},{\"attributes\":{\"days\":[1,8,15,22]},\"id\":\"1974\",\"type\":\"DaysTicker\"},{\"attributes\":{\"bottom_units\":\"screen\",\"coordinates\":null,\"fill_alpha\":0.5,\"fill_color\":\"lightgrey\",\"group\":null,\"left_units\":\"screen\",\"level\":\"overlay\",\"line_alpha\":1.0,\"line_color\":\"black\",\"line_dash\":[4,4],\"line_width\":2,\"right_units\":\"screen\",\"syncable\":false,\"top_units\":\"screen\"},\"id\":\"1934\",\"type\":\"BoxAnnotation\"},{\"attributes\":{\"days\":[1,15]},\"id\":\"1975\",\"type\":\"DaysTicker\"},{\"attributes\":{},\"id\":\"1926\",\"type\":\"BasicTicker\"},{\"attributes\":{},\"id\":\"1943\",\"type\":\"Selection\"},{\"attributes\":{\"format\":\"%.2f\"},\"id\":\"1951\",\"type\":\"PrintfTickFormatter\"},{\"attributes\":{\"axis\":{\"id\":\"1925\"},\"coordinates\":null,\"dimension\":1,\"grid_line_color\":null,\"group\":null,\"ticker\":null},\"id\":\"1928\",\"type\":\"Grid\"},{\"attributes\":{\"months\":[0,2,4,6,8,10]},\"id\":\"1977\",\"type\":\"MonthsTicker\"},{\"attributes\":{\"months\":[0,4,8]},\"id\":\"1978\",\"type\":\"MonthsTicker\"},{\"attributes\":{\"children\":[{\"id\":\"1908\"},{\"id\":\"1912\"},{\"id\":\"1981\"}],\"margin\":[0,0,0,0],\"name\":\"Row01499\",\"tags\":[\"embedded\"]},\"id\":\"1907\",\"type\":\"Row\"},{\"attributes\":{\"axis_label\":\"Date\",\"coordinates\":null,\"formatter\":{\"id\":\"1953\"},\"group\":null,\"major_label_orientation\":0.7853981633974483,\"major_label_policy\":{\"id\":\"1954\"},\"ticker\":{\"id\":\"1922\"}},\"id\":\"1921\",\"type\":\"DatetimeAxis\"},{\"attributes\":{},\"id\":\"1957\",\"type\":\"AllLabels\"},{\"attributes\":{\"coordinates\":null,\"data_source\":{\"id\":\"1942\"},\"glyph\":{\"id\":\"1945\"},\"group\":null,\"hover_glyph\":null,\"muted_glyph\":{\"id\":\"1947\"},\"nonselection_glyph\":{\"id\":\"1946\"},\"selection_glyph\":{\"id\":\"1950\"},\"view\":{\"id\":\"1949\"}},\"id\":\"1948\",\"type\":\"GlyphRenderer\"},{\"attributes\":{\"days\":[1,2,3,4,5,6,7,8,9,10,11,12,13,14,15,16,17,18,19,20,21,22,23,24,25,26,27,28,29,30,31]},\"id\":\"1972\",\"type\":\"DaysTicker\"},{\"attributes\":{\"months\":[0,6]},\"id\":\"1979\",\"type\":\"MonthsTicker\"},{\"attributes\":{\"line_alpha\":0.1,\"line_color\":\"#30a2da\",\"line_width\":2,\"x\":{\"field\":\"time\"},\"y\":{\"field\":\"daily_returns\"}},\"id\":\"1946\",\"type\":\"Line\"},{\"attributes\":{\"below\":[{\"id\":\"1921\"}],\"center\":[{\"id\":\"1924\"},{\"id\":\"1928\"}],\"left\":[{\"id\":\"1925\"}],\"margin\":[5,5,5,5],\"min_border_bottom\":10,\"min_border_left\":10,\"min_border_right\":10,\"min_border_top\":10,\"renderers\":[{\"id\":\"1948\"}],\"sizing_mode\":\"fixed\",\"title\":{\"id\":\"1913\"},\"toolbar\":{\"id\":\"1935\"},\"width\":1200,\"x_range\":{\"id\":\"1909\"},\"x_scale\":{\"id\":\"1917\"},\"y_range\":{\"id\":\"1910\"},\"y_scale\":{\"id\":\"1919\"}},\"id\":\"1912\",\"subtype\":\"Figure\",\"type\":\"Plot\"},{\"attributes\":{\"line_alpha\":0.2,\"line_color\":\"#30a2da\",\"line_width\":2,\"x\":{\"field\":\"time\"},\"y\":{\"field\":\"daily_returns\"}},\"id\":\"1947\",\"type\":\"Line\"},{\"attributes\":{},\"id\":\"1953\",\"type\":\"DatetimeTickFormatter\"},{\"attributes\":{},\"id\":\"1929\",\"type\":\"SaveTool\"},{\"attributes\":{},\"id\":\"1980\",\"type\":\"YearsTicker\"},{\"attributes\":{\"margin\":[5,5,5,5],\"name\":\"HSpacer01504\",\"sizing_mode\":\"stretch_width\"},\"id\":\"1981\",\"type\":\"Spacer\"},{\"attributes\":{\"line_color\":\"#30a2da\",\"line_width\":2,\"x\":{\"field\":\"time\"},\"y\":{\"field\":\"daily_returns\"}},\"id\":\"1945\",\"type\":\"Line\"},{\"attributes\":{},\"id\":\"1930\",\"type\":\"PanTool\"},{\"attributes\":{\"margin\":[5,5,5,5],\"name\":\"HSpacer01503\",\"sizing_mode\":\"stretch_width\"},\"id\":\"1908\",\"type\":\"Spacer\"},{\"attributes\":{\"callback\":null,\"formatters\":{\"@{time}\":\"datetime\"},\"renderers\":[{\"id\":\"1948\"}],\"tags\":[\"hv_created\"],\"tooltips\":[[\"time\",\"@{time}{%F %T}\"],[\"daily_returns\",\"@{daily_returns}\"]]},\"id\":\"1911\",\"type\":\"HoverTool\"},{\"attributes\":{},\"id\":\"1954\",\"type\":\"AllLabels\"},{\"attributes\":{},\"id\":\"1931\",\"type\":\"WheelZoomTool\"},{\"attributes\":{\"end\":1607040000000.0,\"reset_end\":1607040000000.0,\"reset_start\":1481846400000.0,\"start\":1481846400000.0,\"tags\":[[[\"time\",\"time\",null]]]},\"id\":\"1909\",\"type\":\"Range1d\"},{\"attributes\":{\"source\":{\"id\":\"1942\"}},\"id\":\"1949\",\"type\":\"CDSView\"},{\"attributes\":{\"base\":24,\"mantissas\":[1,2,4,6,8,12],\"max_interval\":43200000.0,\"min_interval\":3600000.0,\"num_minor_ticks\":0},\"id\":\"1971\",\"type\":\"AdaptiveTicker\"},{\"attributes\":{\"overlay\":{\"id\":\"1934\"}},\"id\":\"1932\",\"type\":\"BoxZoomTool\"},{\"attributes\":{},\"id\":\"1966\",\"type\":\"UnionRenderers\"},{\"attributes\":{\"base\":60,\"mantissas\":[1,2,5,10,15,20,30],\"max_interval\":1800000.0,\"min_interval\":1000.0,\"num_minor_ticks\":0},\"id\":\"1970\",\"type\":\"AdaptiveTicker\"},{\"attributes\":{},\"id\":\"1917\",\"type\":\"LinearScale\"},{\"attributes\":{\"data\":{\"daily_returns\":{\"__ndarray__\":\"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\",\"dtype\":\"float64\",\"order\":\"little\",\"shape\":[999]},\"time\":{\"__ndarray__\":\"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\",\"dtype\":\"float64\",\"order\":\"little\",\"shape\":[999]}},\"selected\":{\"id\":\"1943\"},\"selection_policy\":{\"id\":\"1966\"}},\"id\":\"1942\",\"type\":\"ColumnDataSource\"}],\"root_ids\":[\"1907\"]},\"title\":\"Bokeh Application\",\"version\":\"2.4.3\"}};\n",
       "    var render_items = [{\"docid\":\"641c6141-07f7-44d2-80b7-7ffa0dd9eadb\",\"root_ids\":[\"1907\"],\"roots\":{\"1907\":\"98a4d756-8641-45ec-871e-4981a6449863\"}}];\n",
       "    root.Bokeh.embed.embed_items_notebook(docs_json, render_items);\n",
       "  }\n",
       "  if (root.Bokeh !== undefined && root.Bokeh.Panel !== undefined) {\n",
       "    embed_document(root);\n",
       "  } else {\n",
       "    var attempts = 0;\n",
       "    var timer = setInterval(function(root) {\n",
       "      if (root.Bokeh !== undefined && root.Bokeh.Panel !== undefined) {\n",
       "        clearInterval(timer);\n",
       "        embed_document(root);\n",
       "      } else if (document.readyState == \"complete\") {\n",
       "        attempts++;\n",
       "        if (attempts > 200) {\n",
       "          clearInterval(timer);\n",
       "          console.log(\"Bokeh: ERROR: Unable to run BokehJS code because BokehJS library is missing\");\n",
       "        }\n",
       "      }\n",
       "    }, 25, root)\n",
       "  }\n",
       "})(window);</script>"
      ],
      "text/plain": [
       ":Curve   [time]   (daily_returns)"
      ]
     },
     "execution_count": 30,
     "metadata": {
      "application/vnd.holoviews_exec.v0+json": {
       "id": "1907"
      }
     },
     "output_type": "execute_result"
    }
   ],
   "source": [
    "# Create an interactive visaulization with hvplot to plot the cumulative returns for PYPL.\n",
    "cumulative_returns_df = (pypl_dataframe[\"daily_returns\"] + 1).cumprod()\n",
    "\n",
    "display(cumulative_returns_df)\n",
    "\n",
    "cumulative_returns_df.hvplot(\n",
    "    height=600,\n",
    "    width=1200,\n",
    "    ylabel=\"Percentage\",\n",
    "    title=\"PYPL - Cumulative Returns\",\n",
    "    xlabel=\"Date\",\n",
    "    rot=45).opts(yformatter='%.2f')\n"
   ]
  },
  {
   "attachments": {},
   "cell_type": "markdown",
   "metadata": {},
   "source": [
    "## Optimize the SQL Queries\n",
    "\n",
    "For this part of the assignment, you’ll continue to analyze a single asset (PYPL) from the ETF. You’ll use advanced SQL queries to optimize the efficiency of accessing data from the database.\n",
    "\n",
    "Complete the following steps:\n",
    "\n",
    "1. Access the closing prices for PYPL that are greater than 200 by completing the following steps:\n",
    "\n",
    "1. Access the closing prices for PYPL that are greater than 200 by completing the following steps:\n",
    "\n",
    "    - Write a SQL `SELECT` statement to select the dates where the PYPL closing price was higher than 200.0.\n",
    "\n",
    "    - Select the “time” and “close” columns for those dates where the closing price was higher than 200.0.\n",
    "\n",
    "    - Using the SQL statement, read the data from the database into a Pandas DataFrame, and then review the resulting DataFrame.\n",
    "\n",
    "2. Find the top 10 daily returns for PYPL by completing the following steps:\n",
    "\n",
    "    -  Write a SQL statement to find the top 10 PYPL daily returns. Make sure to do the following:\n",
    "\n",
    "        * Use `SELECT` to select only the “time” and “daily_returns” columns.\n",
    "\n",
    "        * Use `ORDER` to sort the results in descending order by the “daily_returns” column.\n",
    "\n",
    "        * Use `LIMIT` to limit the results to the top 10 daily return values.\n",
    "\n",
    "    - Using the SQL statement, read the data from the database into a Pandas DataFrame, and then review the resulting DataFrame.\n"
   ]
  },
  {
   "attachments": {},
   "cell_type": "markdown",
   "metadata": {},
   "source": [
    "### Step 1: Access the closing prices for PYPL that are greater than 200 by completing the following steps:\n",
    "\n",
    "    - Write a SQL `SELECT` statement to select the dates where the PYPL closing price was higher than 200.0.\n",
    "\n",
    "    - Select the “time” and “close” columns for those dates where the closing price was higher than 200.0.\n",
    "\n",
    "    - Using the SQL statement, read the data from the database into a Pandas DataFrame, and then review the resulting DataFrame.\n"
   ]
  },
  {
   "cell_type": "code",
   "execution_count": 31,
   "metadata": {
    "scrolled": true
   },
   "outputs": [
    {
     "data": {
      "text/html": [
       "<div>\n",
       "<style scoped>\n",
       "    .dataframe tbody tr th:only-of-type {\n",
       "        vertical-align: middle;\n",
       "    }\n",
       "\n",
       "    .dataframe tbody tr th {\n",
       "        vertical-align: top;\n",
       "    }\n",
       "\n",
       "    .dataframe thead th {\n",
       "        text-align: right;\n",
       "    }\n",
       "</style>\n",
       "<table border=\"1\" class=\"dataframe\">\n",
       "  <thead>\n",
       "    <tr style=\"text-align: right;\">\n",
       "      <th></th>\n",
       "      <th>close</th>\n",
       "    </tr>\n",
       "    <tr>\n",
       "      <th>time</th>\n",
       "      <th></th>\n",
       "    </tr>\n",
       "  </thead>\n",
       "  <tbody>\n",
       "    <tr>\n",
       "      <th>2016-12-16 00:00:00.000000</th>\n",
       "      <td>39.32</td>\n",
       "    </tr>\n",
       "    <tr>\n",
       "      <th>2016-12-19 00:00:00.000000</th>\n",
       "      <td>39.45</td>\n",
       "    </tr>\n",
       "    <tr>\n",
       "      <th>2016-12-20 00:00:00.000000</th>\n",
       "      <td>39.74</td>\n",
       "    </tr>\n",
       "    <tr>\n",
       "      <th>2016-12-21 00:00:00.000000</th>\n",
       "      <td>40.09</td>\n",
       "    </tr>\n",
       "    <tr>\n",
       "      <th>2016-12-22 00:00:00.000000</th>\n",
       "      <td>39.68</td>\n",
       "    </tr>\n",
       "  </tbody>\n",
       "</table>\n",
       "</div>"
      ],
      "text/plain": [
       "                            close\n",
       "time                             \n",
       "2016-12-16 00:00:00.000000  39.32\n",
       "2016-12-19 00:00:00.000000  39.45\n",
       "2016-12-20 00:00:00.000000  39.74\n",
       "2016-12-21 00:00:00.000000  40.09\n",
       "2016-12-22 00:00:00.000000  39.68"
      ]
     },
     "metadata": {},
     "output_type": "display_data"
    },
    {
     "data": {
      "text/html": [
       "<div>\n",
       "<style scoped>\n",
       "    .dataframe tbody tr th:only-of-type {\n",
       "        vertical-align: middle;\n",
       "    }\n",
       "\n",
       "    .dataframe tbody tr th {\n",
       "        vertical-align: top;\n",
       "    }\n",
       "\n",
       "    .dataframe thead th {\n",
       "        text-align: right;\n",
       "    }\n",
       "</style>\n",
       "<table border=\"1\" class=\"dataframe\">\n",
       "  <thead>\n",
       "    <tr style=\"text-align: right;\">\n",
       "      <th></th>\n",
       "      <th>close</th>\n",
       "    </tr>\n",
       "    <tr>\n",
       "      <th>time</th>\n",
       "      <th></th>\n",
       "    </tr>\n",
       "  </thead>\n",
       "  <tbody>\n",
       "    <tr>\n",
       "      <th>2020-11-16 00:00:00.000000</th>\n",
       "      <td>191.96</td>\n",
       "    </tr>\n",
       "    <tr>\n",
       "      <th>2020-11-17 00:00:00.000000</th>\n",
       "      <td>192.30</td>\n",
       "    </tr>\n",
       "    <tr>\n",
       "      <th>2020-11-18 00:00:00.000000</th>\n",
       "      <td>190.12</td>\n",
       "    </tr>\n",
       "    <tr>\n",
       "      <th>2020-11-19 00:00:00.000000</th>\n",
       "      <td>190.88</td>\n",
       "    </tr>\n",
       "    <tr>\n",
       "      <th>2020-11-20 00:00:00.000000</th>\n",
       "      <td>192.62</td>\n",
       "    </tr>\n",
       "  </tbody>\n",
       "</table>\n",
       "</div>"
      ],
      "text/plain": [
       "                             close\n",
       "time                              \n",
       "2020-11-16 00:00:00.000000  191.96\n",
       "2020-11-17 00:00:00.000000  192.30\n",
       "2020-11-18 00:00:00.000000  190.12\n",
       "2020-11-19 00:00:00.000000  190.88\n",
       "2020-11-20 00:00:00.000000  192.62"
      ]
     },
     "metadata": {},
     "output_type": "display_data"
    }
   ],
   "source": [
    "# Write a SQL SELECT statement to select the time and close columns \n",
    "# where the PYPL closing price was higher than 200.0.\n",
    "query = \"\"\"Select time, close\n",
    "        from PYPL\n",
    "        Where \"close\" < 200 \"\"\"\n",
    "\n",
    "# Using the query, read the data from the database into a Pandas DataFrame\n",
    "pypl_higher_than_200 = pd.read_sql_query(query,con=engine, index_col=\"time\")\n",
    "\n",
    "# Review the resulting DataFrame\n",
    "display(pypl_higher_than_200.head())\n",
    "display(pypl_higher_than_200.tail())\n"
   ]
  },
  {
   "attachments": {},
   "cell_type": "markdown",
   "metadata": {},
   "source": [
    "### Step 2: Find the top 10 daily returns for PYPL by completing the following steps:\n",
    "\n",
    "    -  Write a SQL statement to find the top 10 PYPL daily returns. Make sure to do the following:\n",
    "\n",
    "        * Use `SELECT` to select only the “time” and “daily_returns” columns.\n",
    "\n",
    "        * Use `ORDER` to sort the results in descending order by the “daily_returns” column.\n",
    "\n",
    "        * Use `LIMIT` to limit the results to the top 10 daily return values.\n",
    "\n",
    "    - Using the SQL statement, read the data from the database into a Pandas DataFrame, and then review the resulting DataFrame.\n"
   ]
  },
  {
   "cell_type": "code",
   "execution_count": 32,
   "metadata": {},
   "outputs": [
    {
     "data": {
      "text/html": [
       "<div>\n",
       "<style scoped>\n",
       "    .dataframe tbody tr th:only-of-type {\n",
       "        vertical-align: middle;\n",
       "    }\n",
       "\n",
       "    .dataframe tbody tr th {\n",
       "        vertical-align: top;\n",
       "    }\n",
       "\n",
       "    .dataframe thead th {\n",
       "        text-align: right;\n",
       "    }\n",
       "</style>\n",
       "<table border=\"1\" class=\"dataframe\">\n",
       "  <thead>\n",
       "    <tr style=\"text-align: right;\">\n",
       "      <th></th>\n",
       "      <th>time</th>\n",
       "      <th>daily_returns</th>\n",
       "    </tr>\n",
       "  </thead>\n",
       "  <tbody>\n",
       "    <tr>\n",
       "      <th>0</th>\n",
       "      <td>2020-03-16 00:00:00.000000</td>\n",
       "      <td>-0.164673</td>\n",
       "    </tr>\n",
       "    <tr>\n",
       "      <th>1</th>\n",
       "      <td>2020-11-09 00:00:00.000000</td>\n",
       "      <td>-0.088792</td>\n",
       "    </tr>\n",
       "    <tr>\n",
       "      <th>2</th>\n",
       "      <td>2020-03-09 00:00:00.000000</td>\n",
       "      <td>-0.084491</td>\n",
       "    </tr>\n",
       "    <tr>\n",
       "      <th>3</th>\n",
       "      <td>2018-02-01 00:00:00.000000</td>\n",
       "      <td>-0.081806</td>\n",
       "    </tr>\n",
       "    <tr>\n",
       "      <th>4</th>\n",
       "      <td>2020-03-20 00:00:00.000000</td>\n",
       "      <td>-0.074228</td>\n",
       "    </tr>\n",
       "    <tr>\n",
       "      <th>5</th>\n",
       "      <td>2020-03-27 00:00:00.000000</td>\n",
       "      <td>-0.070960</td>\n",
       "    </tr>\n",
       "    <tr>\n",
       "      <th>6</th>\n",
       "      <td>2020-03-12 00:00:00.000000</td>\n",
       "      <td>-0.067013</td>\n",
       "    </tr>\n",
       "    <tr>\n",
       "      <th>7</th>\n",
       "      <td>2020-03-18 00:00:00.000000</td>\n",
       "      <td>-0.065495</td>\n",
       "    </tr>\n",
       "    <tr>\n",
       "      <th>8</th>\n",
       "      <td>2020-09-04 00:00:00.000000</td>\n",
       "      <td>-0.063881</td>\n",
       "    </tr>\n",
       "    <tr>\n",
       "      <th>9</th>\n",
       "      <td>2017-11-29 00:00:00.000000</td>\n",
       "      <td>-0.058361</td>\n",
       "    </tr>\n",
       "  </tbody>\n",
       "</table>\n",
       "</div>"
      ],
      "text/plain": [
       "                         time  daily_returns\n",
       "0  2020-03-16 00:00:00.000000      -0.164673\n",
       "1  2020-11-09 00:00:00.000000      -0.088792\n",
       "2  2020-03-09 00:00:00.000000      -0.084491\n",
       "3  2018-02-01 00:00:00.000000      -0.081806\n",
       "4  2020-03-20 00:00:00.000000      -0.074228\n",
       "5  2020-03-27 00:00:00.000000      -0.070960\n",
       "6  2020-03-12 00:00:00.000000      -0.067013\n",
       "7  2020-03-18 00:00:00.000000      -0.065495\n",
       "8  2020-09-04 00:00:00.000000      -0.063881\n",
       "9  2017-11-29 00:00:00.000000      -0.058361"
      ]
     },
     "execution_count": 32,
     "metadata": {},
     "output_type": "execute_result"
    }
   ],
   "source": [
    "# Write a SQL SELECT statement to select the time and daily_returns columns\n",
    "# Sort the results in descending order and return only the top 10 return values\n",
    "query = \"\"\"\n",
    "    Select time, daily_returns\n",
    "    From PYPL\n",
    "    Order by daily_returns\n",
    "    Limit 10\n",
    "            \"\"\"\n",
    "\n",
    "# Using the query, read the data from the database into a Pandas DataFrame\n",
    "pypl_top_10_returns = pd.read_sql_query(query, con=engine)\n",
    "\n",
    "# Review the resulting DataFrame\n",
    "pypl_top_10_returns.head(11)\n"
   ]
  },
  {
   "attachments": {},
   "cell_type": "markdown",
   "metadata": {},
   "source": [
    "## Analyze the Fintech ETF Portfolio\n",
    "\n",
    "For this part of the assignment, you’ll build the entire ETF portfolio and then evaluate its performance. To do so, you’ll build the ETF portfolio by using SQL joins to combine all the data for each asset.\n",
    "\n",
    "Complete the following steps:\n",
    "\n",
    "1. Write a SQL query to join each table in the portfolio into a single DataFrame. To do so, complete the following steps:\n",
    "\n",
    "    - Use a SQL inner join to join each table on the “time” column. Access the “time” column in the `GDOT` table via the `GDOT.time` syntax. Access the “time” columns from the other tables via similar syntax.\n",
    "\n",
    "    - Using the SQL query, read the data from the database into a Pandas DataFrame. Review the resulting DataFrame.\n",
    "\n",
    "2. Create a DataFrame that averages the “daily_returns” columns for all four assets. Review the resulting DataFrame.\n",
    "\n",
    "    > **Hint** Assuming that this ETF contains equally weighted returns, you can average the returns for each asset to get the average returns of the portfolio. You can then use the average returns of the portfolio to calculate the annualized returns and the cumulative returns. For the calculation to get the average daily returns for the portfolio, use the following code:\n",
    "    >\n",
    "    > ```python\n",
    "    > etf_portfolio_returns = etf_portfolio['daily_returns'].mean(axis=1)\n",
    "    > ```\n",
    "    >\n",
    "    > You can use the average daily returns of the portfolio the same way that you used the daily returns of a single asset.\n",
    "\n",
    "3. Use the average daily returns in the `etf_portfolio_returns` DataFrame to calculate the annualized returns for the portfolio. Display the annualized return value of the ETF portfolio.\n",
    "\n",
    "> **Hint**  To calculate the annualized returns, multiply the mean of the `etf_portfolio_returns` values by 252.\n",
    ">\n",
    "> To convert the decimal values to percentages, multiply the results by 100.\n",
    "\n",
    "4. Use the average daily returns in the `etf_portfolio_returns` DataFrame to calculate the cumulative returns of the ETF portfolio.\n",
    "\n",
    "5. Using hvPlot, create an interactive line plot that visualizes the cumulative return values of the ETF portfolio. Reflect the “time” column of the DataFrame on the x-axis. Make sure that you professionally style and format your visualization to enhance its readability.\n"
   ]
  },
  {
   "attachments": {},
   "cell_type": "markdown",
   "metadata": {},
   "source": [
    "### Step 1: Write a SQL query to join each table in the portfolio into a single DataFrame. To do so, complete the following steps:\n",
    "\n",
    "    - Use a SQL inner join to join each table on the “time” column. Access the “time” column in the `GDOT` table via the `GDOT.time` syntax. Access the “time” columns from the other tables via similar syntax.\n",
    "\n",
    "    - Using the SQL query, read the data from the database into a Pandas DataFrame. Review the resulting DataFrame."
   ]
  },
  {
   "cell_type": "code",
   "execution_count": 37,
   "metadata": {
    "scrolled": true
   },
   "outputs": [
    {
     "ename": "OperationalError",
     "evalue": "(sqlite3.OperationalError) no such table: etf.db\n[SQL: \n    Select * \n    from etf.db\n     Where time = 2016-01-15\n    ]\n(Background on this error at: https://sqlalche.me/e/14/e3q8)",
     "output_type": "error",
     "traceback": [
      "\u001b[1;31m---------------------------------------------------------------------------\u001b[0m",
      "\u001b[1;31mOperationalError\u001b[0m                          Traceback (most recent call last)",
      "\u001b[1;32mc:\\Users\\ozzyb\\anaconda3\\envs\\dev\\lib\\site-packages\\sqlalchemy\\engine\\base.py\u001b[0m in \u001b[0;36m_execute_context\u001b[1;34m(self, dialect, constructor, statement, parameters, execution_options, *args, **kw)\u001b[0m\n\u001b[0;32m   1819\u001b[0m                     self.dialect.do_execute(\n\u001b[1;32m-> 1820\u001b[1;33m                         \u001b[0mcursor\u001b[0m\u001b[1;33m,\u001b[0m \u001b[0mstatement\u001b[0m\u001b[1;33m,\u001b[0m \u001b[0mparameters\u001b[0m\u001b[1;33m,\u001b[0m \u001b[0mcontext\u001b[0m\u001b[1;33m\u001b[0m\u001b[1;33m\u001b[0m\u001b[0m\n\u001b[0m\u001b[0;32m   1821\u001b[0m                     )\n",
      "\u001b[1;32mc:\\Users\\ozzyb\\anaconda3\\envs\\dev\\lib\\site-packages\\sqlalchemy\\engine\\default.py\u001b[0m in \u001b[0;36mdo_execute\u001b[1;34m(self, cursor, statement, parameters, context)\u001b[0m\n\u001b[0;32m    731\u001b[0m     \u001b[1;32mdef\u001b[0m \u001b[0mdo_execute\u001b[0m\u001b[1;33m(\u001b[0m\u001b[0mself\u001b[0m\u001b[1;33m,\u001b[0m \u001b[0mcursor\u001b[0m\u001b[1;33m,\u001b[0m \u001b[0mstatement\u001b[0m\u001b[1;33m,\u001b[0m \u001b[0mparameters\u001b[0m\u001b[1;33m,\u001b[0m \u001b[0mcontext\u001b[0m\u001b[1;33m=\u001b[0m\u001b[1;32mNone\u001b[0m\u001b[1;33m)\u001b[0m\u001b[1;33m:\u001b[0m\u001b[1;33m\u001b[0m\u001b[1;33m\u001b[0m\u001b[0m\n\u001b[1;32m--> 732\u001b[1;33m         \u001b[0mcursor\u001b[0m\u001b[1;33m.\u001b[0m\u001b[0mexecute\u001b[0m\u001b[1;33m(\u001b[0m\u001b[0mstatement\u001b[0m\u001b[1;33m,\u001b[0m \u001b[0mparameters\u001b[0m\u001b[1;33m)\u001b[0m\u001b[1;33m\u001b[0m\u001b[1;33m\u001b[0m\u001b[0m\n\u001b[0m\u001b[0;32m    733\u001b[0m \u001b[1;33m\u001b[0m\u001b[0m\n",
      "\u001b[1;31mOperationalError\u001b[0m: no such table: etf.db",
      "\nThe above exception was the direct cause of the following exception:\n",
      "\u001b[1;31mOperationalError\u001b[0m                          Traceback (most recent call last)",
      "\u001b[1;32m~\\AppData\\Local\\Temp\\ipykernel_33320\\2036819611.py\u001b[0m in \u001b[0;36m<module>\u001b[1;34m\u001b[0m\n\u001b[0;32m      7\u001b[0m     \"\"\"\n\u001b[0;32m      8\u001b[0m \u001b[1;31m# Using the query, read the data from the database into a Pandas DataFrame\u001b[0m\u001b[1;33m\u001b[0m\u001b[1;33m\u001b[0m\u001b[1;33m\u001b[0m\u001b[0m\n\u001b[1;32m----> 9\u001b[1;33m \u001b[0metf_portfolio\u001b[0m \u001b[1;33m=\u001b[0m \u001b[0mpd\u001b[0m\u001b[1;33m.\u001b[0m\u001b[0mread_sql_query\u001b[0m\u001b[1;33m(\u001b[0m\u001b[0mquery\u001b[0m\u001b[1;33m,\u001b[0m \u001b[0mcon\u001b[0m\u001b[1;33m=\u001b[0m\u001b[0mengine\u001b[0m\u001b[1;33m)\u001b[0m\u001b[1;33m\u001b[0m\u001b[1;33m\u001b[0m\u001b[0m\n\u001b[0m\u001b[0;32m     10\u001b[0m \u001b[1;31m# Review the resulting DataFrame\u001b[0m\u001b[1;33m\u001b[0m\u001b[1;33m\u001b[0m\u001b[1;33m\u001b[0m\u001b[0m\n\u001b[0;32m     11\u001b[0m \u001b[0metf_portfolio\u001b[0m\u001b[1;33m.\u001b[0m\u001b[0mhead\u001b[0m\u001b[1;33m\u001b[0m\u001b[1;33m\u001b[0m\u001b[0m\n",
      "\u001b[1;32mc:\\Users\\ozzyb\\anaconda3\\envs\\dev\\lib\\site-packages\\pandas\\io\\sql.py\u001b[0m in \u001b[0;36mread_sql_query\u001b[1;34m(sql, con, index_col, coerce_float, params, parse_dates, chunksize, dtype)\u001b[0m\n\u001b[0;32m    441\u001b[0m         \u001b[0mparse_dates\u001b[0m\u001b[1;33m=\u001b[0m\u001b[0mparse_dates\u001b[0m\u001b[1;33m,\u001b[0m\u001b[1;33m\u001b[0m\u001b[1;33m\u001b[0m\u001b[0m\n\u001b[0;32m    442\u001b[0m         \u001b[0mchunksize\u001b[0m\u001b[1;33m=\u001b[0m\u001b[0mchunksize\u001b[0m\u001b[1;33m,\u001b[0m\u001b[1;33m\u001b[0m\u001b[1;33m\u001b[0m\u001b[0m\n\u001b[1;32m--> 443\u001b[1;33m         \u001b[0mdtype\u001b[0m\u001b[1;33m=\u001b[0m\u001b[0mdtype\u001b[0m\u001b[1;33m,\u001b[0m\u001b[1;33m\u001b[0m\u001b[1;33m\u001b[0m\u001b[0m\n\u001b[0m\u001b[0;32m    444\u001b[0m     )\n\u001b[0;32m    445\u001b[0m \u001b[1;33m\u001b[0m\u001b[0m\n",
      "\u001b[1;32mc:\\Users\\ozzyb\\anaconda3\\envs\\dev\\lib\\site-packages\\pandas\\io\\sql.py\u001b[0m in \u001b[0;36mread_query\u001b[1;34m(self, sql, index_col, coerce_float, parse_dates, params, chunksize, dtype)\u001b[0m\n\u001b[0;32m   1577\u001b[0m         \u001b[0margs\u001b[0m \u001b[1;33m=\u001b[0m \u001b[0m_convert_params\u001b[0m\u001b[1;33m(\u001b[0m\u001b[0msql\u001b[0m\u001b[1;33m,\u001b[0m \u001b[0mparams\u001b[0m\u001b[1;33m)\u001b[0m\u001b[1;33m\u001b[0m\u001b[1;33m\u001b[0m\u001b[0m\n\u001b[0;32m   1578\u001b[0m \u001b[1;33m\u001b[0m\u001b[0m\n\u001b[1;32m-> 1579\u001b[1;33m         \u001b[0mresult\u001b[0m \u001b[1;33m=\u001b[0m \u001b[0mself\u001b[0m\u001b[1;33m.\u001b[0m\u001b[0mexecute\u001b[0m\u001b[1;33m(\u001b[0m\u001b[1;33m*\u001b[0m\u001b[0margs\u001b[0m\u001b[1;33m)\u001b[0m\u001b[1;33m\u001b[0m\u001b[1;33m\u001b[0m\u001b[0m\n\u001b[0m\u001b[0;32m   1580\u001b[0m         \u001b[0mcolumns\u001b[0m \u001b[1;33m=\u001b[0m \u001b[0mresult\u001b[0m\u001b[1;33m.\u001b[0m\u001b[0mkeys\u001b[0m\u001b[1;33m(\u001b[0m\u001b[1;33m)\u001b[0m\u001b[1;33m\u001b[0m\u001b[1;33m\u001b[0m\u001b[0m\n\u001b[0;32m   1581\u001b[0m \u001b[1;33m\u001b[0m\u001b[0m\n",
      "\u001b[1;32mc:\\Users\\ozzyb\\anaconda3\\envs\\dev\\lib\\site-packages\\pandas\\io\\sql.py\u001b[0m in \u001b[0;36mexecute\u001b[1;34m(self, *args, **kwargs)\u001b[0m\n\u001b[0;32m   1422\u001b[0m     \u001b[1;32mdef\u001b[0m \u001b[0mexecute\u001b[0m\u001b[1;33m(\u001b[0m\u001b[0mself\u001b[0m\u001b[1;33m,\u001b[0m \u001b[1;33m*\u001b[0m\u001b[0margs\u001b[0m\u001b[1;33m,\u001b[0m \u001b[1;33m**\u001b[0m\u001b[0mkwargs\u001b[0m\u001b[1;33m)\u001b[0m\u001b[1;33m:\u001b[0m\u001b[1;33m\u001b[0m\u001b[1;33m\u001b[0m\u001b[0m\n\u001b[0;32m   1423\u001b[0m         \u001b[1;34m\"\"\"Simple passthrough to SQLAlchemy connectable\"\"\"\u001b[0m\u001b[1;33m\u001b[0m\u001b[1;33m\u001b[0m\u001b[0m\n\u001b[1;32m-> 1424\u001b[1;33m         \u001b[1;32mreturn\u001b[0m \u001b[0mself\u001b[0m\u001b[1;33m.\u001b[0m\u001b[0mconnectable\u001b[0m\u001b[1;33m.\u001b[0m\u001b[0mexecution_options\u001b[0m\u001b[1;33m(\u001b[0m\u001b[1;33m)\u001b[0m\u001b[1;33m.\u001b[0m\u001b[0mexecute\u001b[0m\u001b[1;33m(\u001b[0m\u001b[1;33m*\u001b[0m\u001b[0margs\u001b[0m\u001b[1;33m,\u001b[0m \u001b[1;33m**\u001b[0m\u001b[0mkwargs\u001b[0m\u001b[1;33m)\u001b[0m\u001b[1;33m\u001b[0m\u001b[1;33m\u001b[0m\u001b[0m\n\u001b[0m\u001b[0;32m   1425\u001b[0m \u001b[1;33m\u001b[0m\u001b[0m\n\u001b[0;32m   1426\u001b[0m     def read_table(\n",
      "\u001b[1;32m<string>\u001b[0m in \u001b[0;36mexecute\u001b[1;34m(self, statement, *multiparams, **params)\u001b[0m\n",
      "\u001b[1;32mc:\\Users\\ozzyb\\anaconda3\\envs\\dev\\lib\\site-packages\\sqlalchemy\\util\\deprecations.py\u001b[0m in \u001b[0;36mwarned\u001b[1;34m(fn, *args, **kwargs)\u001b[0m\n\u001b[0;32m    400\u001b[0m         \u001b[1;32mif\u001b[0m \u001b[1;32mnot\u001b[0m \u001b[0mskip_warning\u001b[0m\u001b[1;33m:\u001b[0m\u001b[1;33m\u001b[0m\u001b[1;33m\u001b[0m\u001b[0m\n\u001b[0;32m    401\u001b[0m             \u001b[0m_warn_with_version\u001b[0m\u001b[1;33m(\u001b[0m\u001b[0mmessage\u001b[0m\u001b[1;33m,\u001b[0m \u001b[0mversion\u001b[0m\u001b[1;33m,\u001b[0m \u001b[0mwtype\u001b[0m\u001b[1;33m,\u001b[0m \u001b[0mstacklevel\u001b[0m\u001b[1;33m=\u001b[0m\u001b[1;36m3\u001b[0m\u001b[1;33m)\u001b[0m\u001b[1;33m\u001b[0m\u001b[1;33m\u001b[0m\u001b[0m\n\u001b[1;32m--> 402\u001b[1;33m         \u001b[1;32mreturn\u001b[0m \u001b[0mfn\u001b[0m\u001b[1;33m(\u001b[0m\u001b[1;33m*\u001b[0m\u001b[0margs\u001b[0m\u001b[1;33m,\u001b[0m \u001b[1;33m**\u001b[0m\u001b[0mkwargs\u001b[0m\u001b[1;33m)\u001b[0m\u001b[1;33m\u001b[0m\u001b[1;33m\u001b[0m\u001b[0m\n\u001b[0m\u001b[0;32m    403\u001b[0m \u001b[1;33m\u001b[0m\u001b[0m\n\u001b[0;32m    404\u001b[0m     \u001b[0mdoc\u001b[0m \u001b[1;33m=\u001b[0m \u001b[0mfunc\u001b[0m\u001b[1;33m.\u001b[0m\u001b[0m__doc__\u001b[0m \u001b[1;32mis\u001b[0m \u001b[1;32mnot\u001b[0m \u001b[1;32mNone\u001b[0m \u001b[1;32mand\u001b[0m \u001b[0mfunc\u001b[0m\u001b[1;33m.\u001b[0m\u001b[0m__doc__\u001b[0m \u001b[1;32mor\u001b[0m \u001b[1;34m\"\"\u001b[0m\u001b[1;33m\u001b[0m\u001b[1;33m\u001b[0m\u001b[0m\n",
      "\u001b[1;32mc:\\Users\\ozzyb\\anaconda3\\envs\\dev\\lib\\site-packages\\sqlalchemy\\engine\\base.py\u001b[0m in \u001b[0;36mexecute\u001b[1;34m(self, statement, *multiparams, **params)\u001b[0m\n\u001b[0;32m   3174\u001b[0m         \"\"\"\n\u001b[0;32m   3175\u001b[0m         \u001b[0mconnection\u001b[0m \u001b[1;33m=\u001b[0m \u001b[0mself\u001b[0m\u001b[1;33m.\u001b[0m\u001b[0mconnect\u001b[0m\u001b[1;33m(\u001b[0m\u001b[0mclose_with_result\u001b[0m\u001b[1;33m=\u001b[0m\u001b[1;32mTrue\u001b[0m\u001b[1;33m)\u001b[0m\u001b[1;33m\u001b[0m\u001b[1;33m\u001b[0m\u001b[0m\n\u001b[1;32m-> 3176\u001b[1;33m         \u001b[1;32mreturn\u001b[0m \u001b[0mconnection\u001b[0m\u001b[1;33m.\u001b[0m\u001b[0mexecute\u001b[0m\u001b[1;33m(\u001b[0m\u001b[0mstatement\u001b[0m\u001b[1;33m,\u001b[0m \u001b[1;33m*\u001b[0m\u001b[0mmultiparams\u001b[0m\u001b[1;33m,\u001b[0m \u001b[1;33m**\u001b[0m\u001b[0mparams\u001b[0m\u001b[1;33m)\u001b[0m\u001b[1;33m\u001b[0m\u001b[1;33m\u001b[0m\u001b[0m\n\u001b[0m\u001b[0;32m   3177\u001b[0m \u001b[1;33m\u001b[0m\u001b[0m\n\u001b[0;32m   3178\u001b[0m     @util.deprecated_20(\n",
      "\u001b[1;32mc:\\Users\\ozzyb\\anaconda3\\envs\\dev\\lib\\site-packages\\sqlalchemy\\engine\\base.py\u001b[0m in \u001b[0;36mexecute\u001b[1;34m(self, statement, *multiparams, **params)\u001b[0m\n\u001b[0;32m   1294\u001b[0m                 \u001b[0mparams\u001b[0m\u001b[1;33m,\u001b[0m\u001b[1;33m\u001b[0m\u001b[1;33m\u001b[0m\u001b[0m\n\u001b[0;32m   1295\u001b[0m                 \u001b[0m_EMPTY_EXECUTION_OPTS\u001b[0m\u001b[1;33m,\u001b[0m\u001b[1;33m\u001b[0m\u001b[1;33m\u001b[0m\u001b[0m\n\u001b[1;32m-> 1296\u001b[1;33m                 \u001b[0mfuture\u001b[0m\u001b[1;33m=\u001b[0m\u001b[1;32mFalse\u001b[0m\u001b[1;33m,\u001b[0m\u001b[1;33m\u001b[0m\u001b[1;33m\u001b[0m\u001b[0m\n\u001b[0m\u001b[0;32m   1297\u001b[0m             )\n\u001b[0;32m   1298\u001b[0m \u001b[1;33m\u001b[0m\u001b[0m\n",
      "\u001b[1;32mc:\\Users\\ozzyb\\anaconda3\\envs\\dev\\lib\\site-packages\\sqlalchemy\\engine\\base.py\u001b[0m in \u001b[0;36m_exec_driver_sql\u001b[1;34m(self, statement, multiparams, params, execution_options, future)\u001b[0m\n\u001b[0;32m   1600\u001b[0m             \u001b[0mexecution_options\u001b[0m\u001b[1;33m,\u001b[0m\u001b[1;33m\u001b[0m\u001b[1;33m\u001b[0m\u001b[0m\n\u001b[0;32m   1601\u001b[0m             \u001b[0mstatement\u001b[0m\u001b[1;33m,\u001b[0m\u001b[1;33m\u001b[0m\u001b[1;33m\u001b[0m\u001b[0m\n\u001b[1;32m-> 1602\u001b[1;33m             \u001b[0mdistilled_parameters\u001b[0m\u001b[1;33m,\u001b[0m\u001b[1;33m\u001b[0m\u001b[1;33m\u001b[0m\u001b[0m\n\u001b[0m\u001b[0;32m   1603\u001b[0m         )\n\u001b[0;32m   1604\u001b[0m \u001b[1;33m\u001b[0m\u001b[0m\n",
      "\u001b[1;32mc:\\Users\\ozzyb\\anaconda3\\envs\\dev\\lib\\site-packages\\sqlalchemy\\engine\\base.py\u001b[0m in \u001b[0;36m_execute_context\u001b[1;34m(self, dialect, constructor, statement, parameters, execution_options, *args, **kw)\u001b[0m\n\u001b[0;32m   1861\u001b[0m         \u001b[1;32mexcept\u001b[0m \u001b[0mBaseException\u001b[0m \u001b[1;32mas\u001b[0m \u001b[0me\u001b[0m\u001b[1;33m:\u001b[0m\u001b[1;33m\u001b[0m\u001b[1;33m\u001b[0m\u001b[0m\n\u001b[0;32m   1862\u001b[0m             self._handle_dbapi_exception(\n\u001b[1;32m-> 1863\u001b[1;33m                 \u001b[0me\u001b[0m\u001b[1;33m,\u001b[0m \u001b[0mstatement\u001b[0m\u001b[1;33m,\u001b[0m \u001b[0mparameters\u001b[0m\u001b[1;33m,\u001b[0m \u001b[0mcursor\u001b[0m\u001b[1;33m,\u001b[0m \u001b[0mcontext\u001b[0m\u001b[1;33m\u001b[0m\u001b[1;33m\u001b[0m\u001b[0m\n\u001b[0m\u001b[0;32m   1864\u001b[0m             )\n\u001b[0;32m   1865\u001b[0m \u001b[1;33m\u001b[0m\u001b[0m\n",
      "\u001b[1;32mc:\\Users\\ozzyb\\anaconda3\\envs\\dev\\lib\\site-packages\\sqlalchemy\\engine\\base.py\u001b[0m in \u001b[0;36m_handle_dbapi_exception\u001b[1;34m(self, e, statement, parameters, cursor, context)\u001b[0m\n\u001b[0;32m   2042\u001b[0m             \u001b[1;32melif\u001b[0m \u001b[0mshould_wrap\u001b[0m\u001b[1;33m:\u001b[0m\u001b[1;33m\u001b[0m\u001b[1;33m\u001b[0m\u001b[0m\n\u001b[0;32m   2043\u001b[0m                 util.raise_(\n\u001b[1;32m-> 2044\u001b[1;33m                     \u001b[0msqlalchemy_exception\u001b[0m\u001b[1;33m,\u001b[0m \u001b[0mwith_traceback\u001b[0m\u001b[1;33m=\u001b[0m\u001b[0mexc_info\u001b[0m\u001b[1;33m[\u001b[0m\u001b[1;36m2\u001b[0m\u001b[1;33m]\u001b[0m\u001b[1;33m,\u001b[0m \u001b[0mfrom_\u001b[0m\u001b[1;33m=\u001b[0m\u001b[0me\u001b[0m\u001b[1;33m\u001b[0m\u001b[1;33m\u001b[0m\u001b[0m\n\u001b[0m\u001b[0;32m   2045\u001b[0m                 )\n\u001b[0;32m   2046\u001b[0m             \u001b[1;32melse\u001b[0m\u001b[1;33m:\u001b[0m\u001b[1;33m\u001b[0m\u001b[1;33m\u001b[0m\u001b[0m\n",
      "\u001b[1;32mc:\\Users\\ozzyb\\anaconda3\\envs\\dev\\lib\\site-packages\\sqlalchemy\\util\\compat.py\u001b[0m in \u001b[0;36mraise_\u001b[1;34m(***failed resolving arguments***)\u001b[0m\n\u001b[0;32m    206\u001b[0m \u001b[1;33m\u001b[0m\u001b[0m\n\u001b[0;32m    207\u001b[0m         \u001b[1;32mtry\u001b[0m\u001b[1;33m:\u001b[0m\u001b[1;33m\u001b[0m\u001b[1;33m\u001b[0m\u001b[0m\n\u001b[1;32m--> 208\u001b[1;33m             \u001b[1;32mraise\u001b[0m \u001b[0mexception\u001b[0m\u001b[1;33m\u001b[0m\u001b[1;33m\u001b[0m\u001b[0m\n\u001b[0m\u001b[0;32m    209\u001b[0m         \u001b[1;32mfinally\u001b[0m\u001b[1;33m:\u001b[0m\u001b[1;33m\u001b[0m\u001b[1;33m\u001b[0m\u001b[0m\n\u001b[0;32m    210\u001b[0m             \u001b[1;31m# credit to\u001b[0m\u001b[1;33m\u001b[0m\u001b[1;33m\u001b[0m\u001b[1;33m\u001b[0m\u001b[0m\n",
      "\u001b[1;32mc:\\Users\\ozzyb\\anaconda3\\envs\\dev\\lib\\site-packages\\sqlalchemy\\engine\\base.py\u001b[0m in \u001b[0;36m_execute_context\u001b[1;34m(self, dialect, constructor, statement, parameters, execution_options, *args, **kw)\u001b[0m\n\u001b[0;32m   1818\u001b[0m                 \u001b[1;32mif\u001b[0m \u001b[1;32mnot\u001b[0m \u001b[0mevt_handled\u001b[0m\u001b[1;33m:\u001b[0m\u001b[1;33m\u001b[0m\u001b[1;33m\u001b[0m\u001b[0m\n\u001b[0;32m   1819\u001b[0m                     self.dialect.do_execute(\n\u001b[1;32m-> 1820\u001b[1;33m                         \u001b[0mcursor\u001b[0m\u001b[1;33m,\u001b[0m \u001b[0mstatement\u001b[0m\u001b[1;33m,\u001b[0m \u001b[0mparameters\u001b[0m\u001b[1;33m,\u001b[0m \u001b[0mcontext\u001b[0m\u001b[1;33m\u001b[0m\u001b[1;33m\u001b[0m\u001b[0m\n\u001b[0m\u001b[0;32m   1821\u001b[0m                     )\n\u001b[0;32m   1822\u001b[0m \u001b[1;33m\u001b[0m\u001b[0m\n",
      "\u001b[1;32mc:\\Users\\ozzyb\\anaconda3\\envs\\dev\\lib\\site-packages\\sqlalchemy\\engine\\default.py\u001b[0m in \u001b[0;36mdo_execute\u001b[1;34m(self, cursor, statement, parameters, context)\u001b[0m\n\u001b[0;32m    730\u001b[0m \u001b[1;33m\u001b[0m\u001b[0m\n\u001b[0;32m    731\u001b[0m     \u001b[1;32mdef\u001b[0m \u001b[0mdo_execute\u001b[0m\u001b[1;33m(\u001b[0m\u001b[0mself\u001b[0m\u001b[1;33m,\u001b[0m \u001b[0mcursor\u001b[0m\u001b[1;33m,\u001b[0m \u001b[0mstatement\u001b[0m\u001b[1;33m,\u001b[0m \u001b[0mparameters\u001b[0m\u001b[1;33m,\u001b[0m \u001b[0mcontext\u001b[0m\u001b[1;33m=\u001b[0m\u001b[1;32mNone\u001b[0m\u001b[1;33m)\u001b[0m\u001b[1;33m:\u001b[0m\u001b[1;33m\u001b[0m\u001b[1;33m\u001b[0m\u001b[0m\n\u001b[1;32m--> 732\u001b[1;33m         \u001b[0mcursor\u001b[0m\u001b[1;33m.\u001b[0m\u001b[0mexecute\u001b[0m\u001b[1;33m(\u001b[0m\u001b[0mstatement\u001b[0m\u001b[1;33m,\u001b[0m \u001b[0mparameters\u001b[0m\u001b[1;33m)\u001b[0m\u001b[1;33m\u001b[0m\u001b[1;33m\u001b[0m\u001b[0m\n\u001b[0m\u001b[0;32m    733\u001b[0m \u001b[1;33m\u001b[0m\u001b[0m\n\u001b[0;32m    734\u001b[0m     \u001b[1;32mdef\u001b[0m \u001b[0mdo_execute_no_params\u001b[0m\u001b[1;33m(\u001b[0m\u001b[0mself\u001b[0m\u001b[1;33m,\u001b[0m \u001b[0mcursor\u001b[0m\u001b[1;33m,\u001b[0m \u001b[0mstatement\u001b[0m\u001b[1;33m,\u001b[0m \u001b[0mcontext\u001b[0m\u001b[1;33m=\u001b[0m\u001b[1;32mNone\u001b[0m\u001b[1;33m)\u001b[0m\u001b[1;33m:\u001b[0m\u001b[1;33m\u001b[0m\u001b[1;33m\u001b[0m\u001b[0m\n",
      "\u001b[1;31mOperationalError\u001b[0m: (sqlite3.OperationalError) no such table: etf.db\n[SQL: \n    Select * \n    from etf.db\n     Where time = 2016-01-15\n    ]\n(Background on this error at: https://sqlalche.me/e/14/e3q8)"
     ]
    }
   ],
   "source": [
    "# Wreate a SQL query to join each table in the portfolio into a single DataFrame \n",
    "# Use the time column from each table as the basis for the join\n",
    "query = \"\"\"\n",
    "    Select * \n",
    "    from etf.db\n",
    "     Where time = 2016-01-15\n",
    "    \"\"\"\n",
    "# Using the query, read the data from the database into a Pandas DataFrame\n",
    "etf_portfolio = pd.read_sql_query(query, con=engine)\n",
    "# Review the resulting DataFrame\n",
    "etf_portfolio.head\n"
   ]
  },
  {
   "attachments": {},
   "cell_type": "markdown",
   "metadata": {},
   "source": [
    "### Step 2: Create a DataFrame that averages the “daily_returns” columns for all four assets. Review the resulting DataFrame."
   ]
  },
  {
   "cell_type": "code",
   "execution_count": null,
   "metadata": {
    "scrolled": true
   },
   "outputs": [],
   "source": [
    "# Create a DataFrame that displays the mean value of the “daily_returns” columns for all four assets.\n",
    "etf_portfolio_returns = # YOUR CODE HERE\n",
    "\n",
    "# Review the resulting DataFrame\n",
    "# YOUR CODE HERE\n"
   ]
  },
  {
   "attachments": {},
   "cell_type": "markdown",
   "metadata": {},
   "source": [
    "### Step 3: Use the average daily returns in the etf_portfolio_returns DataFrame to calculate the annualized returns for the portfolio. Display the annualized return value of the ETF portfolio."
   ]
  },
  {
   "cell_type": "code",
   "execution_count": null,
   "metadata": {},
   "outputs": [],
   "source": [
    "# Use the average daily returns provided by the etf_portfolio_returns DataFrame \n",
    "# to calculate the annualized return for the portfolio. \n",
    "annualized_etf_portfolio_returns = # YOUR CODE HERE\n",
    "\n",
    "# Display the annualized return value of the ETF portfolio.\n",
    "# YOUR CODE HERE\n"
   ]
  },
  {
   "attachments": {},
   "cell_type": "markdown",
   "metadata": {},
   "source": [
    "### Step 4: Use the average daily returns in the `etf_portfolio_returns` DataFrame to calculate the cumulative returns of the ETF portfolio."
   ]
  },
  {
   "cell_type": "code",
   "execution_count": null,
   "metadata": {},
   "outputs": [],
   "source": [
    "# Use the average daily returns provided by the etf_portfolio_returns DataFrame \n",
    "# to calculate the cumulative returns\n",
    "etf_cumulative_returns = # YOUR CODE HERE\n",
    "\n",
    "# Display the final cumulative return value\n",
    "# YOUR CODE HERE\n"
   ]
  },
  {
   "attachments": {},
   "cell_type": "markdown",
   "metadata": {},
   "source": [
    "### Step 5: Using hvPlot, create an interactive line plot that visualizes the cumulative return values of the ETF portfolio. Reflect the “time” column of the DataFrame on the x-axis. Make sure that you professionally style and format your visualization to enhance its readability."
   ]
  },
  {
   "cell_type": "code",
   "execution_count": null,
   "metadata": {},
   "outputs": [],
   "source": [
    "# Using hvplot, create an interactive line plot that visualizes the ETF portfolios cumulative return values.\n",
    "# YOUR CODE HERE\n"
   ]
  },
  {
   "cell_type": "code",
   "execution_count": null,
   "metadata": {},
   "outputs": [],
   "source": []
  }
 ],
 "metadata": {
  "kernelspec": {
   "display_name": "dev",
   "language": "python",
   "name": "python3"
  },
  "language_info": {
   "codemirror_mode": {
    "name": "ipython",
    "version": 3
   },
   "file_extension": ".py",
   "mimetype": "text/x-python",
   "name": "python",
   "nbconvert_exporter": "python",
   "pygments_lexer": "ipython3",
   "version": "3.7.13"
  }
 },
 "nbformat": 4,
 "nbformat_minor": 4
}
